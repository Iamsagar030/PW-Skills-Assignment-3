{
 "cells": [
  {
   "cell_type": "markdown",
   "metadata": {},
   "source": [
    "1. Expressions:\n",
    "\n",
    "(1) A single value can be obtained by combining variables, operators, values, and function calls to create an expression.\n",
    "\n",
    "(2) It might be as straightforward as a single number or as intricate as a multi-element combination.\n",
    "\n",
    "(3) Expressions can be used in any place in Python code where a value is expected, including loops, conditional statements, assignments, and function parameters.\n"
   ]
  },
  {
   "cell_type": "markdown",
   "metadata": {},
   "source": [
    "Example of Expressions:"
   ]
  },
  {
   "cell_type": "code",
   "execution_count": 1,
   "metadata": {},
   "outputs": [],
   "source": [
    "# Arithmetic expression\n",
    "result = 2 + 3 * (4 - 1)\n",
    "\n",
    "# Function call expression\n",
    "length = len(\"hello\")\n",
    "\n",
    "# Variable assignment expression\n",
    "x = 10\n",
    "\n",
    "# Conditional expression (ternary operator)\n",
    "is_even = True if x % 2 == 0 else False\n"
   ]
  },
  {
   "cell_type": "markdown",
   "metadata": {},
   "source": [
    "2. Statements:\n",
    "\n",
    "(1) A statement is a full execution unit that carries out a single task.\n",
    "\n",
    "(2) It usually ends with a newline or a semicolon (;) and may contain one or more expressions.\n",
    "\n",
    "(3) Variable assignments, function calls, loops, conditional statements, and other things can all be included in statements."
   ]
  },
  {
   "cell_type": "markdown",
   "metadata": {},
   "source": [
    "Example of Statements:"
   ]
  },
  {
   "cell_type": "code",
   "execution_count": 2,
   "metadata": {},
   "outputs": [
    {
     "name": "stdout",
     "output_type": "stream",
     "text": [
      "Hello, World!\n",
      "Positive\n",
      "0\n",
      "1\n",
      "2\n",
      "3\n",
      "4\n"
     ]
    }
   ],
   "source": [
    "# Variable assignment statement\n",
    "x = 10\n",
    "\n",
    "# Function call statement\n",
    "print(\"Hello, World!\")\n",
    "\n",
    "# Conditional statement (if-else)\n",
    "if x > 0:\n",
    "    print(\"Positive\")\n",
    "else:\n",
    "    print(\"Non-positive\")\n",
    "\n",
    "# Loop statement (for loop)\n",
    "for i in range(5):\n",
    "    print(i)\n",
    "\n",
    "# Compound statement (multiple statements on a single line)\n",
    "a = 5; b = 10\n"
   ]
  }
 ],
 "metadata": {
  "kernelspec": {
   "display_name": "Python 3",
   "language": "python",
   "name": "python3"
  },
  "language_info": {
   "codemirror_mode": {
    "name": "ipython",
    "version": 3
   },
   "file_extension": ".py",
   "mimetype": "text/x-python",
   "name": "python",
   "nbconvert_exporter": "python",
   "pygments_lexer": "ipython3",
   "version": "3.11.8"
  }
 },
 "nbformat": 4,
 "nbformat_minor": 2
}
