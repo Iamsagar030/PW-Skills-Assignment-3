{
 "cells": [
  {
   "cell_type": "markdown",
   "metadata": {},
   "source": [
    "Two major problems arise in Python when indentation is incorrect:\n",
    "\n",
    "Errors:\n",
    "\n",
    "Python defines code blocks via indentation. Syntax mistakes, usually in the form of an IndentationError, will result from incorrect indentation. This error stops your code from executing because Python is unable to understand your program's structure.\n",
    "\n",
    "\n",
    "Unexpected Behavior:\n",
    "\n",
    "Incorrect indentation can make your code perform differently than intended, even if you don't receive an explicit error message. Python may read statements as belonging in the wrong block, which would produce erroneous reasoning and outcomes.\n"
   ]
  },
  {
   "cell_type": "code",
   "execution_count": 7,
   "metadata": {},
   "outputs": [
    {
     "name": "stdout",
     "output_type": "stream",
     "text": [
      "X is positive\n"
     ]
    }
   ],
   "source": [
    "# Correct Identation\n",
    "x = int(input(\"Enter a number: \"))  # Get input from the user and convert to integer\n",
    "\n",
    "if x > 0:\n",
    "    print(\"X is positive\")\n",
    "else:\n",
    "    print(\"X is non-positive\")\n"
   ]
  },
  {
   "cell_type": "code",
   "execution_count": 11,
   "metadata": {},
   "outputs": [
    {
     "ename": "IndentationError",
     "evalue": "expected an indented block after 'if' statement on line 2 (3197424874.py, line 3)",
     "output_type": "error",
     "traceback": [
      "\u001b[1;36m  Cell \u001b[1;32mIn[11], line 3\u001b[1;36m\u001b[0m\n\u001b[1;33m    print(\"X is positive\")  # Missing indentation\u001b[0m\n\u001b[1;37m    ^\u001b[0m\n\u001b[1;31mIndentationError\u001b[0m\u001b[1;31m:\u001b[0m expected an indented block after 'if' statement on line 2\n"
     ]
    }
   ],
   "source": [
    "# Incorrect Indentation (Missing Indent):\n",
    "if x > 0:\n",
    "print(\"X is positive\")  # Missing indentation\n",
    "else:\n",
    "    print(\"X is non-positive\")\n",
    "\n"
   ]
  },
  {
   "cell_type": "code",
   "execution_count": 10,
   "metadata": {},
   "outputs": [
    {
     "ename": "IndentationError",
     "evalue": "unexpected indent (2448881237.py, line 4)",
     "output_type": "error",
     "traceback": [
      "\u001b[1;36m  Cell \u001b[1;32mIn[10], line 4\u001b[1;36m\u001b[0m\n\u001b[1;33m    else:  # Extra indentation\u001b[0m\n\u001b[1;37m    ^\u001b[0m\n\u001b[1;31mIndentationError\u001b[0m\u001b[1;31m:\u001b[0m unexpected indent\n"
     ]
    }
   ],
   "source": [
    "# Incorrect Indentation (Extra Indent):\n",
    "if x > 0:\n",
    "    print(\"X is positive\")\n",
    "        else:  # Extra indentation\n",
    "            print(\"X is non-positive\")\n"
   ]
  }
 ],
 "metadata": {
  "kernelspec": {
   "display_name": "Python 3",
   "language": "python",
   "name": "python3"
  },
  "language_info": {
   "codemirror_mode": {
    "name": "ipython",
    "version": 3
   },
   "file_extension": ".py",
   "mimetype": "text/x-python",
   "name": "python",
   "nbconvert_exporter": "python",
   "pygments_lexer": "ipython3",
   "version": "3.11.8"
  }
 },
 "nbformat": 4,
 "nbformat_minor": 2
}
