{
 "cells": [
  {
   "cell_type": "markdown",
   "metadata": {},
   "source": [
    "Python requires proper indentation for two main reasons: to define code blocks and to improve readability.\n",
    "\n",
    "1. Defining Code Blocks:\n",
    "\n",
    "Python only uses indentation, as opposed to many other programming languages that utilize curly braces ({}) to define code blocks (such as if statements, loops, and functions). Which assertions belong in a given block are indicated by the spaces at the start of each line. Your code won't function as intended if the indentation is incorrect, resulting in an IndentationError. "
   ]
  },
  {
   "cell_type": "code",
   "execution_count": 4,
   "metadata": {},
   "outputs": [
    {
     "name": "stdout",
     "output_type": "stream",
     "text": [
      "This statement is inside the if block\n"
     ]
    }
   ],
   "source": [
    "# Example of defining a code block using indentation with a valid condition\n",
    "condition = True  # Define the condition variable\n",
    "if condition:\n",
    "    # This is inside the if block\n",
    "    print(\"This statement is inside the if block\")\n",
    "else:\n",
    "    # This is inside the else block\n",
    "    print(\"This statement is inside the else block\")\n"
   ]
  },
  {
   "cell_type": "markdown",
   "metadata": {},
   "source": [
    "2. Enhancing Readability:\n",
    "\n",
    "Appropriate indentation organizes the code's structure visually, which improves readability. Even for developers unfamiliar with the codebase, it facilitates understanding and following the code. Maintaining and understanding code is enhanced by uniform and clear indentation."
   ]
  },
  {
   "cell_type": "code",
   "execution_count": 5,
   "metadata": {},
   "outputs": [
    {
     "name": "stdout",
     "output_type": "stream",
     "text": [
      "Total price: 50\n"
     ]
    }
   ],
   "source": [
    "# Example of enhancing readability with proper indentation\n",
    "def calculate_total(price, quantity):\n",
    "    # Calculate the total price\n",
    "    total = price * quantity\n",
    "    return total\n",
    "\n",
    "# Call the function with proper indentation\n",
    "total_price = calculate_total(10, 5)\n",
    "print(\"Total price:\", total_price)\n"
   ]
  }
 ],
 "metadata": {
  "kernelspec": {
   "display_name": "Python 3",
   "language": "python",
   "name": "python3"
  },
  "language_info": {
   "codemirror_mode": {
    "name": "ipython",
    "version": 3
   },
   "file_extension": ".py",
   "mimetype": "text/x-python",
   "name": "python",
   "nbconvert_exporter": "python",
   "pygments_lexer": "ipython3",
   "version": "3.11.8"
  }
 },
 "nbformat": 4,
 "nbformat_minor": 2
}
